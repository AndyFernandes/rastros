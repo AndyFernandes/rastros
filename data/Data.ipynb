{
 "cells": [
  {
   "cell_type": "markdown",
   "metadata": {},
   "source": [
    "# Imports"
   ]
  },
  {
   "cell_type": "code",
   "execution_count": 282,
   "metadata": {},
   "outputs": [],
   "source": [
    "import numpy as np\n",
    "import glob\n",
    "import xlrd\n",
    "import pandas as pd"
   ]
  },
  {
   "cell_type": "markdown",
   "metadata": {},
   "source": [
    "# Reading every filename"
   ]
  },
  {
   "cell_type": "code",
   "execution_count": 283,
   "metadata": {},
   "outputs": [],
   "source": [
    "nomes = glob.glob(\"dados/*.xls\")\n",
    "reservatorios = []\n",
    "for f in nomes:\n",
    "    reservatorios.append(((f.split(\"/\")[1]).split(\".\")[0]).split(\"_\")[1])\n"
   ]
  },
  {
   "cell_type": "markdown",
   "metadata": {},
   "source": [
    "# Comparing the 2 data sources"
   ]
  },
  {
   "cell_type": "code",
   "execution_count": 284,
   "metadata": {},
   "outputs": [],
   "source": [
    "data_1 = pd.read_csv('reservatorios.csv', index_col=False, header=0)\n",
    "data_2 = reservatorios "
   ]
  },
  {
   "cell_type": "code",
   "execution_count": 285,
   "metadata": {},
   "outputs": [],
   "source": [
    "data_1 = np.array(list(data_1.columns.values))"
   ]
  },
  {
   "cell_type": "code",
   "execution_count": 286,
   "metadata": {},
   "outputs": [
    {
     "name": "stdout",
     "output_type": "stream",
     "text": [
      "143\n"
     ]
    }
   ],
   "source": [
    "print(len(data_1))"
   ]
  },
  {
   "cell_type": "code",
   "execution_count": 287,
   "metadata": {},
   "outputs": [
    {
     "name": "stdout",
     "output_type": "stream",
     "text": [
      "148\n"
     ]
    }
   ],
   "source": [
    "print(len(data_2))"
   ]
  },
  {
   "cell_type": "markdown",
   "metadata": {},
   "source": [
    "# Cheking what are the missing data"
   ]
  },
  {
   "cell_type": "code",
   "execution_count": 288,
   "metadata": {},
   "outputs": [],
   "source": [
    "contador = 0\n",
    "indices = []\n",
    "for i in range (len(data_2)):\n",
    "    for j in range(len(data_1)):\n",
    "        if(data_1[j] == data_2[i]):\n",
    "            contador +=1\n",
    "            indices.append(i)"
   ]
  },
  {
   "cell_type": "code",
   "execution_count": 289,
   "metadata": {},
   "outputs": [
    {
     "data": {
      "text/plain": [
       "138"
      ]
     },
     "execution_count": 289,
     "metadata": {},
     "output_type": "execute_result"
    }
   ],
   "source": [
    "contador\n",
    "\n"
   ]
  },
  {
   "cell_type": "code",
   "execution_count": 290,
   "metadata": {},
   "outputs": [
    {
     "name": "stdout",
     "output_type": "stream",
     "text": [
      "FACUNDO\n",
      "ROSÁRIO\n",
      "ESCURIDÃO\n",
      "OLHO D'ÁGUA\n",
      "Itapajé\n",
      "FIGUEIREDO\n",
      "CALDEIRÕES\n",
      "GERMINAL\n",
      "ACARAÚ MIRIM\n",
      "MARANGUAPINHO\n"
     ]
    }
   ],
   "source": [
    "for i in range(len(reservatorios)):\n",
    "    not_in = 0\n",
    "    for j in range(len(indices)):\n",
    "        if(indices[j] == i):\n",
    "            not_in = 1\n",
    "    if (not_in == 0):\n",
    "        print(reservatorios[i])"
   ]
  },
  {
   "cell_type": "markdown",
   "metadata": {},
   "source": [
    "# Appending a localization row and saving as csv files"
   ]
  },
  {
   "cell_type": "code",
   "execution_count": 291,
   "metadata": {},
   "outputs": [
    {
     "name": "stdout",
     "output_type": "stream",
     "text": [
      "POMPEU SOBRINHO\n"
     ]
    }
   ],
   "source": [
    "print(reservatorios[1])"
   ]
  },
  {
   "cell_type": "code",
   "execution_count": 302,
   "metadata": {},
   "outputs": [
    {
     "name": "stdout",
     "output_type": "stream",
     "text": [
      "(143, 18)\n",
      "(143, 18)\n",
      "(143, 18)\n",
      "(143, 18)\n",
      "(143, 18)\n",
      "(143, 18)\n",
      "(143, 18)\n",
      "(143, 18)\n",
      "(143, 18)\n",
      "(143, 18)\n",
      "(143, 18)\n",
      "(143, 18)\n",
      "(143, 18)\n",
      "(143, 18)\n",
      "(143, 18)\n",
      "(143, 18)\n",
      "(143, 18)\n",
      "(143, 18)\n",
      "(143, 18)\n",
      "(143, 18)\n",
      "(143, 18)\n",
      "(143, 18)\n",
      "(143, 18)\n",
      "(143, 18)\n",
      "(143, 18)\n",
      "(143, 18)\n",
      "(143, 18)\n",
      "(143, 18)\n",
      "(143, 18)\n",
      "(143, 18)\n",
      "(143, 18)\n",
      "(143, 18)\n",
      "(143, 18)\n",
      "(143, 18)\n",
      "(143, 18)\n",
      "(143, 18)\n",
      "(143, 18)\n",
      "(143, 18)\n",
      "(143, 18)\n",
      "(143, 18)\n",
      "(143, 18)\n",
      "(143, 18)\n",
      "(143, 18)\n",
      "(143, 18)\n",
      "(143, 18)\n",
      "(143, 18)\n",
      "(143, 18)\n",
      "(143, 18)\n",
      "(143, 18)\n",
      "(143, 18)\n",
      "(143, 18)\n",
      "(143, 18)\n",
      "(143, 18)\n",
      "(143, 18)\n",
      "(143, 18)\n",
      "(143, 18)\n",
      "(143, 18)\n",
      "(143, 18)\n",
      "(143, 18)\n",
      "(143, 18)\n",
      "(143, 18)\n",
      "(143, 18)\n",
      "(143, 18)\n",
      "(143, 18)\n",
      "(143, 18)\n",
      "(143, 18)\n",
      "(143, 18)\n",
      "(143, 18)\n",
      "(143, 18)\n",
      "(143, 18)\n",
      "(143, 18)\n",
      "(143, 18)\n",
      "(143, 18)\n",
      "(143, 18)\n",
      "(143, 18)\n",
      "(143, 18)\n",
      "(143, 18)\n",
      "(143, 18)\n",
      "(143, 18)\n",
      "(143, 18)\n",
      "(143, 18)\n",
      "(143, 18)\n",
      "(143, 18)\n",
      "(143, 18)\n",
      "(143, 18)\n",
      "(143, 18)\n",
      "(143, 18)\n",
      "(143, 18)\n",
      "(143, 18)\n",
      "(143, 18)\n",
      "(143, 18)\n",
      "(143, 18)\n",
      "(143, 18)\n",
      "(143, 18)\n",
      "(143, 18)\n",
      "(143, 18)\n",
      "(143, 18)\n",
      "(143, 18)\n",
      "(143, 18)\n",
      "(143, 18)\n",
      "(143, 18)\n",
      "(143, 18)\n",
      "(143, 18)\n",
      "(143, 18)\n",
      "(143, 18)\n",
      "(143, 18)\n",
      "(143, 18)\n",
      "(143, 18)\n",
      "(143, 18)\n",
      "(143, 18)\n",
      "(143, 18)\n",
      "(143, 18)\n",
      "(143, 18)\n",
      "(143, 18)\n",
      "(143, 18)\n",
      "(143, 18)\n",
      "(143, 18)\n",
      "(143, 18)\n",
      "(143, 18)\n",
      "(143, 18)\n",
      "(143, 18)\n",
      "(143, 18)\n",
      "(143, 18)\n",
      "(143, 18)\n",
      "(143, 18)\n",
      "(143, 18)\n",
      "(143, 18)\n",
      "(143, 18)\n",
      "(143, 18)\n",
      "(143, 18)\n",
      "(143, 18)\n",
      "(143, 18)\n",
      "(143, 18)\n",
      "(143, 18)\n",
      "(143, 18)\n",
      "(143, 18)\n",
      "(143, 18)\n",
      "(143, 18)\n",
      "(143, 18)\n",
      "(143, 18)\n",
      "(143, 18)\n",
      "(143, 18)\n",
      "(143, 18)\n",
      "(143, 18)\n",
      "(143, 18)\n",
      "(143, 18)\n",
      "(143, 18)\n",
      "(143, 18)\n"
     ]
    }
   ],
   "source": [
    "for f in nomes:\n",
    "    xl = pd.read_html(f)\n",
    "    filename = ((f.split(\"/\")[1]).split(\".\")[0]).split(\"_\")[1]\n",
    "    estado = xl[0][0][1:]\n",
    "    nome = xl[0][1][1:]\n",
    "    capacidade = xl[0][2][1:]\n",
    "    cota = xl[0][3][1:]\n",
    "    volume_util = xl[0][4][1:]\n",
    "    volume = xl[0][5][1:]\n",
    "    data = xl[0][6][1:]\n",
    "    dat1 = pd.DataFrame({'Estado' :estado,'Nome':nome,'Capacidade(hm³)':capacidade,'Cota(m)':cota,\n",
    "                         'Volume Útil(hm³)':volume_util,'Volume (%)':volume,'Data da Medição':data})\n",
    "    positions = city_lat_long(filename)\n",
    "    lat_long = []\n",
    "    for i in range(len(xl[0][0])):\n",
    "        lat_long.append([positions[0],positions[1]])\n",
    "    lat_long = np.array(lat_long)\n",
    "    dat2 = pd.DataFrame({'Latitude' :lat_long[:,0],'Longitude':lat_long[:,1]})\n",
    "    dat3 = pd.concat([dat1, dat2], axis=1)\n",
    "    np.savetxt(filename+\".csv\",delimiter=\",\",X=np.vstack((np.array(list(dat3)),np.array(dat3)[1:])),fmt='%s')"
   ]
  },
  {
   "cell_type": "code",
   "execution_count": 211,
   "metadata": {},
   "outputs": [],
   "source": [
    "def city_lat_long(filename):\n",
    "    data = pd.read_csv('reservatorios3.csv', index_col=False, header=0)\n",
    "    data = np.array(data)\n",
    "    print(np.shape(data))\n",
    "    for i in range(np.shape(data)[0]):\n",
    "        if (filename == data[i][1]):\n",
    "            return data[i][9],data[i][10],np.shape(data)[0]\n",
    "    return 0,0"
   ]
  },
  {
   "cell_type": "code",
   "execution_count": 156,
   "metadata": {},
   "outputs": [
    {
     "name": "stdout",
     "output_type": "stream",
     "text": [
      "(143, 18)\n",
      "(-39.49250558378087, -3.3713896732336917, 143)\n"
     ]
    }
   ],
   "source": [
    "a = city_lat_long(\"GAMELEIRA\")\n",
    "print(a)"
   ]
  }
 ],
 "metadata": {
  "kernelspec": {
   "display_name": "Python 3",
   "language": "python",
   "name": "python3"
  },
  "language_info": {
   "codemirror_mode": {
    "name": "ipython",
    "version": 3
   },
   "file_extension": ".py",
   "mimetype": "text/x-python",
   "name": "python",
   "nbconvert_exporter": "python",
   "pygments_lexer": "ipython3",
   "version": "3.6.6"
  }
 },
 "nbformat": 4,
 "nbformat_minor": 2
}
